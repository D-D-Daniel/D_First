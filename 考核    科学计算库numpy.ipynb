{
 "cells": [
  {
   "cell_type": "markdown",
   "metadata": {},
   "source": [
    "# 科学计算库numpy"
   ]
  },
  {
   "cell_type": "markdown",
   "metadata": {},
   "source": [
    "### 张浩然"
   ]
  },
  {
   "cell_type": "markdown",
   "metadata": {},
   "source": [
    "### Windows10，64位操作系统\n",
    "### 软件：Python 3.6 64-bit"
   ]
  },
  {
   "cell_type": "code",
   "execution_count": 1,
   "metadata": {},
   "outputs": [],
   "source": [
    "import numpy as np"
   ]
  },
  {
   "cell_type": "markdown",
   "metadata": {},
   "source": [
    "#### 一：numpy中使用array生成数组，该数组的类型"
   ]
  },
  {
   "cell_type": "code",
   "execution_count": 2,
   "metadata": {},
   "outputs": [
    {
     "name": "stdout",
     "output_type": "stream",
     "text": [
      "[1, 2, 3] <class 'list'>\n",
      "[1 2 3] <class 'numpy.ndarray'>\n"
     ]
    }
   ],
   "source": [
    "a = [1,2,3]\n",
    "b = np.array([1,2,3])\n",
    "print(a, type(a))\n",
    "print(b, type(b))"
   ]
  },
  {
   "cell_type": "code",
   "execution_count": 3,
   "metadata": {},
   "outputs": [
    {
     "name": "stdout",
     "output_type": "stream",
     "text": [
      "[[1 2 3]\n",
      " [4 5 6]] <class 'numpy.ndarray'>\n",
      "[[[ 1  2  3]\n",
      "  [ 4  5  6]]\n",
      "\n",
      " [[ 7  8  9]\n",
      "  [10 11 12]]] <class 'numpy.ndarray'>\n"
     ]
    }
   ],
   "source": [
    "c = np.array([[1,2,3],[4,5,6]])\n",
    "d = np.array([[[1,2,3],[4,5,6]],[[7,8,9],[10,11,12]]])\n",
    "print(c, type(c))\n",
    "print(d, type(d))"
   ]
  },
  {
   "cell_type": "markdown",
   "metadata": {},
   "source": [
    "#### 二：array生成的数组中数据的类型"
   ]
  },
  {
   "cell_type": "code",
   "execution_count": 4,
   "metadata": {},
   "outputs": [
    {
     "name": "stdout",
     "output_type": "stream",
     "text": [
      "[1 2 3] int32\n",
      "[[1 2 3]\n",
      " [4 5 6]] int32\n",
      "[[[ 1  2  3]\n",
      "  [ 4  5  6]]\n",
      "\n",
      " [[ 7  8  9]\n",
      "  [10 11 12]]] int32\n"
     ]
    }
   ],
   "source": [
    "print(b, b.dtype)\n",
    "print(c, c.dtype)\n",
    "print(d, d.dtype)"
   ]
  },
  {
   "cell_type": "markdown",
   "metadata": {},
   "source": [
    "#### 三：指定数组中数据的类型；改变数组中数据的类型并赋给新变量"
   ]
  },
  {
   "cell_type": "code",
   "execution_count": 5,
   "metadata": {},
   "outputs": [
    {
     "name": "stdout",
     "output_type": "stream",
     "text": [
      "[b'1' b'2' b'3']\n",
      "[[1. 2. 3.]\n",
      " [4. 5. 6.]]\n",
      "[[[ 1  2  3]\n",
      "  [ 4  5  6]]\n",
      "\n",
      " [[ 7  8  9]\n",
      "  [10 11 12]]]\n"
     ]
    }
   ],
   "source": [
    "print(b.astype(np.string_))\n",
    "print(c.astype(np.float64))#双精度浮点数\n",
    "print(d.astype(np.int64))"
   ]
  },
  {
   "cell_type": "code",
   "execution_count": 6,
   "metadata": {},
   "outputs": [
    {
     "name": "stdout",
     "output_type": "stream",
     "text": [
      "[[1. 2. 3.]\n",
      " [4. 5. 6.]] float64\n"
     ]
    }
   ],
   "source": [
    "e = np.array([[1,2,3],[4,5,6]], dtype = np.float64)\n",
    "print(e, e.dtype)"
   ]
  },
  {
   "cell_type": "code",
   "execution_count": 7,
   "metadata": {},
   "outputs": [
    {
     "name": "stdout",
     "output_type": "stream",
     "text": [
      "[1.2 2.3 3.4 4.5 5.6] float64\n",
      "[1 2 3 4 5]\n"
     ]
    }
   ],
   "source": [
    "f = np.array([1.2,2.3,3.4,4.5,5.6])\n",
    "print(f, f.dtype)\n",
    "print(f.astype(np.int32))"
   ]
  },
  {
   "cell_type": "code",
   "execution_count": 8,
   "metadata": {},
   "outputs": [
    {
     "name": "stdout",
     "output_type": "stream",
     "text": [
      "[1.2 2.3 3.4 4.5 5.6]\n"
     ]
    }
   ],
   "source": [
    "f.astype(np.int32)\n",
    "print(f)"
   ]
  },
  {
   "cell_type": "code",
   "execution_count": 9,
   "metadata": {},
   "outputs": [
    {
     "name": "stdout",
     "output_type": "stream",
     "text": [
      "[1 2 3 4 5]\n"
     ]
    }
   ],
   "source": [
    "g = f.astype(np.int32)\n",
    "print(g)"
   ]
  },
  {
   "cell_type": "markdown",
   "metadata": {},
   "source": [
    "#### 四：查看数组的shape，改变数组的shape   每一个维度元素的个数"
   ]
  },
  {
   "cell_type": "code",
   "execution_count": 10,
   "metadata": {},
   "outputs": [
    {
     "name": "stdout",
     "output_type": "stream",
     "text": [
      "[1 2 3] (3,)\n",
      "[[1 2 3]\n",
      " [4 5 6]] (2, 3)\n",
      "[[[ 1  2  3]\n",
      "  [ 4  5  6]]\n",
      "\n",
      " [[ 7  8  9]\n",
      "  [10 11 12]]] (2, 2, 3)\n"
     ]
    }
   ],
   "source": [
    "print(b, b.shape)\n",
    "print(c, c.shape)\n",
    "print(d, d.shape)"
   ]
  },
  {
   "cell_type": "code",
   "execution_count": 11,
   "metadata": {},
   "outputs": [
    {
     "name": "stdout",
     "output_type": "stream",
     "text": [
      "[[1 2 3]]\n",
      "[[1 2]\n",
      " [3 4]\n",
      " [5 6]]\n",
      "[[[ 1  2]\n",
      "  [ 3  4]]\n",
      "\n",
      " [[ 5  6]\n",
      "  [ 7  8]]\n",
      "\n",
      " [[ 9 10]\n",
      "  [11 12]]]\n"
     ]
    }
   ],
   "source": [
    "print(b.reshape(1,3))\n",
    "print(c.reshape(3,2))\n",
    "print(d.reshape(3,2,2))"
   ]
  },
  {
   "cell_type": "code",
   "execution_count": 12,
   "metadata": {},
   "outputs": [
    {
     "name": "stdout",
     "output_type": "stream",
     "text": [
      "[1 2 3]\n"
     ]
    }
   ],
   "source": [
    "b.reshape(3,1)\n",
    "print(b)"
   ]
  },
  {
   "cell_type": "code",
   "execution_count": 13,
   "metadata": {},
   "outputs": [
    {
     "name": "stdout",
     "output_type": "stream",
     "text": [
      "[[0. 0. 0. 0.]\n",
      " [0. 0. 0. 0.]\n",
      " [0. 0. 0. 0.]] float64\n",
      "[[1. 1. 1. 1.]\n",
      " [1. 1. 1. 1.]\n",
      " [1. 1. 1. 1.]] float64\n"
     ]
    }
   ],
   "source": [
    "x = np.zeros((3,4))#生成全为0的矩阵\n",
    "y = np.ones((3,4)) #生成全为1的矩阵\n",
    "print(x, x.dtype)\n",
    "print(y, y.dtype)"
   ]
  },
  {
   "cell_type": "code",
   "execution_count": 14,
   "metadata": {
    "scrolled": true
   },
   "outputs": [
    {
     "name": "stdout",
     "output_type": "stream",
     "text": [
      "[[8 8 8 8]\n",
      " [8 8 8 8]\n",
      " [8 8 8 8]] int32\n"
     ]
    }
   ],
   "source": [
    "z = np.full((3,4),8)#生成全为指定数字的矩阵\n",
    "print(z, z.dtype)"
   ]
  },
  {
   "cell_type": "code",
   "execution_count": 15,
   "metadata": {},
   "outputs": [
    {
     "name": "stdout",
     "output_type": "stream",
     "text": [
      "[[0.32242487 0.00339117 0.37560448 0.21474549]\n",
      " [0.68793323 0.21766188 0.00762832 0.99558003]\n",
      " [0.15331976 0.06815463 0.28265136 0.90968524]]\n"
     ]
    }
   ],
   "source": [
    "r = np.random.random((3,4))#生成0和1的随机数组\n",
    "print(r)"
   ]
  },
  {
   "cell_type": "code",
   "execution_count": 16,
   "metadata": {},
   "outputs": [
    {
     "name": "stdout",
     "output_type": "stream",
     "text": [
      "[[0.23805459 0.24999534 0.94009252 0.95698102]\n",
      " [0.0981133  0.41358125 0.36286512 0.92107811]\n",
      " [0.79593222 0.86476777 0.18924042 0.11362709]] \n",
      "\n",
      "[[ 1.21567825 -0.19034155 -0.9108113  -0.73219198]\n",
      " [ 0.23351896 -1.84974178  1.77617044 -0.7409365 ]\n",
      " [ 1.22287539  0.90676245  0.43088526  0.7764839 ]] \n",
      "\n"
     ]
    }
   ],
   "source": [
    "r = np.random.rand(12).reshape(3,4) #生成0和1之间的随机数组 \n",
    "t = np.random.randn(12).reshape(3,4)#生成-1和1之间的随机数组\n",
    "print(r,\"\\n\")\n",
    "print(t,\"\\n\")"
   ]
  },
  {
   "cell_type": "code",
   "execution_count": 17,
   "metadata": {},
   "outputs": [
    {
     "name": "stdout",
     "output_type": "stream",
     "text": [
      "[[0.32659869 0.74364904 0.85312853 0.41960645]\n",
      " [0.47932619 0.18245227 0.18322678 0.38113555]\n",
      " [0.83284898 0.56713715 0.43316508 0.43918435]]\n"
     ]
    }
   ],
   "source": [
    "#u = np.random.rand((3,4))\n",
    "u = np.random.rand(3,4)   #rand不能填元组\n",
    "print(u)"
   ]
  },
  {
   "cell_type": "markdown",
   "metadata": {},
   "source": [
    "#### 五：改变数组中的数据(引用和拷贝(view,copy))"
   ]
  },
  {
   "cell_type": "code",
   "execution_count": 18,
   "metadata": {},
   "outputs": [
    {
     "name": "stdout",
     "output_type": "stream",
     "text": [
      "[[ 0  1  2  3]\n",
      " [ 4  5  6  7]\n",
      " [ 8  9 10 11]]\n"
     ]
    }
   ],
   "source": [
    "arr = np.arange(12).reshape(3,4)\n",
    "print(arr)"
   ]
  },
  {
   "cell_type": "code",
   "execution_count": 19,
   "metadata": {},
   "outputs": [
    {
     "name": "stdout",
     "output_type": "stream",
     "text": [
      "[0 1]\n",
      "\n",
      "[0 1]\n"
     ]
    }
   ],
   "source": [
    "arr_1 = arr[0][:2]\n",
    "arr_2 = arr[0,:2]\n",
    "print(arr_1)\n",
    "print(\"\")\n",
    "print(arr_2)"
   ]
  },
  {
   "cell_type": "code",
   "execution_count": 20,
   "metadata": {},
   "outputs": [
    {
     "name": "stdout",
     "output_type": "stream",
     "text": [
      "[[   0 1111    2    3]\n",
      " [   4    5    6    7]\n",
      " [   8    9   10   11]]\n"
     ]
    }
   ],
   "source": [
    "arr[0,1] = 1111\n",
    "print(arr)"
   ]
  },
  {
   "cell_type": "code",
   "execution_count": 21,
   "metadata": {},
   "outputs": [
    {
     "name": "stdout",
     "output_type": "stream",
     "text": [
      "[[0 1]\n",
      " [4 5]]\n"
     ]
    }
   ],
   "source": [
    "arr_0 = np.arange(12).reshape(3,4)\n",
    "arr_9 = arr_0[:2,:2]\n",
    "print(arr_9)"
   ]
  },
  {
   "cell_type": "code",
   "execution_count": 22,
   "metadata": {},
   "outputs": [
    {
     "name": "stdout",
     "output_type": "stream",
     "text": [
      "[[ 0  1  2  3]\n",
      " [ 4  5  6  7]\n",
      " [ 8  9 10 11]]\n"
     ]
    }
   ],
   "source": [
    "print(arr_0)"
   ]
  },
  {
   "cell_type": "code",
   "execution_count": 23,
   "metadata": {},
   "outputs": [
    {
     "name": "stdout",
     "output_type": "stream",
     "text": [
      "[[121212      1]\n",
      " [     4      5]]\n",
      "[[121212      1      2      3]\n",
      " [     4      5      6      7]\n",
      " [     8      9     10     11]]\n"
     ]
    }
   ],
   "source": [
    "arr_9[0,0] = 121212\n",
    "print(arr_9)\n",
    "print(arr_0)"
   ]
  },
  {
   "cell_type": "code",
   "execution_count": 24,
   "metadata": {},
   "outputs": [
    {
     "name": "stdout",
     "output_type": "stream",
     "text": [
      "[[ 0  1  2  3]\n",
      " [ 4  5  6  7]\n",
      " [ 8  9 10 11]]\n",
      "[[0 1]\n",
      " [4 5]\n",
      " [8 9]]\n"
     ]
    }
   ],
   "source": [
    "arr = np.arange(12).reshape(3,4)\n",
    "arr_0 = arr[:,:2].copy()#深拷贝\n",
    "print(arr)\n",
    "print(arr_0)"
   ]
  },
  {
   "cell_type": "code",
   "execution_count": 25,
   "metadata": {},
   "outputs": [
    {
     "name": "stdout",
     "output_type": "stream",
     "text": [
      "[[ 0  1  2  3]\n",
      " [ 4  5  6  7]\n",
      " [ 8  9 10 11]]\n",
      "[[121212      1]\n",
      " [     4      5]\n",
      " [     8      9]]\n"
     ]
    }
   ],
   "source": [
    "arr_0[0,0] = 121212\n",
    "print(arr)\n",
    "print(arr_0)"
   ]
  },
  {
   "cell_type": "code",
   "execution_count": 26,
   "metadata": {},
   "outputs": [
    {
     "name": "stdout",
     "output_type": "stream",
     "text": [
      "[[0 1]\n",
      " [4 5]\n",
      " [8 9]]\n",
      "\n",
      "[[121212      1]\n",
      " [     4      5]\n",
      " [     8      9]]\n",
      "\n",
      "[[121212      1      2      3]\n",
      " [     4      5      6      7]\n",
      " [     8      9     10     11]]\n"
     ]
    }
   ],
   "source": [
    "arr_1 = arr[:,:2].view()#浅拷贝\n",
    "print(arr_1)\n",
    "arr_1[0,0] = 121212\n",
    "print(\"\")\n",
    "print(arr_1)\n",
    "print(\"\")\n",
    "print(arr)"
   ]
  },
  {
   "cell_type": "markdown",
   "metadata": {},
   "source": [
    "#### 六：选取数组中数据"
   ]
  },
  {
   "cell_type": "code",
   "execution_count": 27,
   "metadata": {},
   "outputs": [
    {
     "name": "stdout",
     "output_type": "stream",
     "text": [
      "[[ 0  1  2  3]\n",
      " [ 4  5  6  7]\n",
      " [ 8  9 10 11]]\n"
     ]
    }
   ],
   "source": [
    "six_arr = np.arange(12).reshape(3,4)\n",
    "print(six_arr)"
   ]
  },
  {
   "cell_type": "code",
   "execution_count": 28,
   "metadata": {},
   "outputs": [
    {
     "name": "stdout",
     "output_type": "stream",
     "text": [
      "[2 7 8]\n"
     ]
    }
   ],
   "source": [
    "six_a = np.array([2,3,0])\n",
    "print(six_arr[np.arange(3), six_a])"
   ]
  },
  {
   "cell_type": "code",
   "execution_count": 29,
   "metadata": {},
   "outputs": [
    {
     "name": "stdout",
     "output_type": "stream",
     "text": [
      "[12 17 18] (3,)\n"
     ]
    }
   ],
   "source": [
    "six_arr_0 = six_arr[np.arange(3), six_a].copy()\n",
    "six_arr_0 += 10\n",
    "print(six_arr_0, six_arr_0.shape)"
   ]
  },
  {
   "cell_type": "markdown",
   "metadata": {},
   "source": [
    "#### 七：运算操作：加减乘除，开根号，矩阵乘法(dot，matmul)，matrix multiplication"
   ]
  },
  {
   "cell_type": "code",
   "execution_count": 30,
   "metadata": {},
   "outputs": [
    {
     "name": "stdout",
     "output_type": "stream",
     "text": [
      "[[1 2]\n",
      " [3 4]] (2, 2)\n",
      "\n",
      "[[5 6]\n",
      " [7 8]] (2, 2)\n"
     ]
    }
   ],
   "source": [
    "s_a = np.array([[1,2],[3,4]])\n",
    "s_b = np.array([[5,6],[7,8]])\n",
    "print(s_a, s_a.shape)\n",
    "print(\"\")\n",
    "print(s_b, s_b.shape)"
   ]
  },
  {
   "cell_type": "code",
   "execution_count": 31,
   "metadata": {},
   "outputs": [
    {
     "name": "stdout",
     "output_type": "stream",
     "text": [
      "[[ 6  8]\n",
      " [10 12]]\n",
      "[[ 6  8]\n",
      " [10 12]]\n"
     ]
    }
   ],
   "source": [
    "print(s_a + s_b)  #加\n",
    "print(np.add(s_a, s_b))"
   ]
  },
  {
   "cell_type": "code",
   "execution_count": 32,
   "metadata": {},
   "outputs": [
    {
     "name": "stdout",
     "output_type": "stream",
     "text": [
      "[[-4 -4]\n",
      " [-4 -4]]\n",
      "[[-4 -4]\n",
      " [-4 -4]]\n"
     ]
    }
   ],
   "source": [
    "print(s_a - s_b)  #减\n",
    "print(np.subtract(s_a, s_b))"
   ]
  },
  {
   "cell_type": "code",
   "execution_count": 33,
   "metadata": {},
   "outputs": [
    {
     "name": "stdout",
     "output_type": "stream",
     "text": [
      "[[ 5 12]\n",
      " [21 32]]\n",
      "[[ 5 12]\n",
      " [21 32]]\n"
     ]
    }
   ],
   "source": [
    "print(s_a * s_b)  #乘\n",
    "print(np.multiply(s_a, s_b))"
   ]
  },
  {
   "cell_type": "code",
   "execution_count": 34,
   "metadata": {},
   "outputs": [
    {
     "name": "stdout",
     "output_type": "stream",
     "text": [
      "[[0.2        0.33333333]\n",
      " [0.42857143 0.5       ]]\n",
      "[[0.2        0.33333333]\n",
      " [0.42857143 0.5       ]]\n"
     ]
    }
   ],
   "source": [
    "print(s_a / s_b)  #除\n",
    "print(np.divide(s_a, s_b))"
   ]
  },
  {
   "cell_type": "code",
   "execution_count": 35,
   "metadata": {},
   "outputs": [
    {
     "name": "stdout",
     "output_type": "stream",
     "text": [
      "[[1.         1.41421356]\n",
      " [1.73205081 2.        ]]\n",
      "[[2.23606798 2.44948974]\n",
      " [2.64575131 2.82842712]]\n"
     ]
    }
   ],
   "source": [
    "print(np.sqrt(s_a))#开平方根\n",
    "print(np.sqrt(s_b))"
   ]
  },
  {
   "cell_type": "code",
   "execution_count": 36,
   "metadata": {
    "scrolled": true
   },
   "outputs": [
    {
     "name": "stdout",
     "output_type": "stream",
     "text": [
      "[[1 2]\n",
      " [3 4]]\n",
      "[[5 6]\n",
      " [7 8]]\n",
      "\n",
      "[[19 22]\n",
      " [43 50]]\n",
      "[[19 22]\n",
      " [43 50]]\n"
     ]
    }
   ],
   "source": [
    "#矩阵乘法\n",
    "print(s_a)\n",
    "print(s_b)\n",
    "print(\"\")\n",
    "print(s_a.dot(s_b))\n",
    "print(np.dot(s_a, s_b))"
   ]
  },
  {
   "cell_type": "code",
   "execution_count": 37,
   "metadata": {
    "scrolled": true
   },
   "outputs": [
    {
     "name": "stdout",
     "output_type": "stream",
     "text": [
      "[[19 22]\n",
      " [43 50]]\n"
     ]
    }
   ],
   "source": [
    "print(np.matmul(s_a, s_b))#matrix multiplication"
   ]
  },
  {
   "cell_type": "code",
   "execution_count": 38,
   "metadata": {},
   "outputs": [
    {
     "name": "stdout",
     "output_type": "stream",
     "text": [
      "[14 38 62]\n",
      "[14 38 62]\n"
     ]
    }
   ],
   "source": [
    "s_c = np.arange(12).reshape(3,4)\n",
    "s_d = np.arange(4)\n",
    "print(np.dot(s_c, s_d))\n",
    "print(np.matmul(s_c, s_d))"
   ]
  },
  {
   "cell_type": "code",
   "execution_count": 39,
   "metadata": {},
   "outputs": [
    {
     "name": "stdout",
     "output_type": "stream",
     "text": [
      "[[[ 42  48  54]\n",
      "  [114 136 158]\n",
      "  [186 224 262]]\n",
      "\n",
      " [[258 312 366]\n",
      "  [330 400 470]\n",
      "  [402 488 574]]] (2, 3, 3)\n",
      "[[[ 42  48  54]\n",
      "  [114 136 158]\n",
      "  [186 224 262]]\n",
      "\n",
      " [[258 312 366]\n",
      "  [330 400 470]\n",
      "  [402 488 574]]] (2, 3, 3)\n"
     ]
    }
   ],
   "source": [
    "#在內积运算中，np.matmul与np.dot没有区别。\n",
    "s_e = np.arange(24).reshape(2,3,4)\n",
    "s_f = np.arange(12).reshape(4,3)\n",
    "print(np.dot(s_e, s_f), np.dot(s_e, s_f).shape)\n",
    "print(np.matmul(s_e, s_f), np.matmul(s_e, s_f).shape)"
   ]
  },
  {
   "cell_type": "markdown",
   "metadata": {},
   "source": [
    "#### 八：转置：(.T和transpose)"
   ]
  },
  {
   "cell_type": "code",
   "execution_count": 40,
   "metadata": {},
   "outputs": [
    {
     "name": "stdout",
     "output_type": "stream",
     "text": [
      "[[0 1]\n",
      " [2 3]]\n",
      "[[0 2]\n",
      " [1 3]]\n",
      "[[0 2]\n",
      " [1 3]]\n"
     ]
    }
   ],
   "source": [
    "e_arr = np.arange(4).reshape(2,2)\n",
    "print(e_arr)\n",
    "print(e_arr.T)\n",
    "print(e_arr.transpose())"
   ]
  },
  {
   "cell_type": "code",
   "execution_count": 41,
   "metadata": {
    "scrolled": true
   },
   "outputs": [
    {
     "name": "stdout",
     "output_type": "stream",
     "text": [
      "[[[ 0  1  2  3]\n",
      "  [ 4  5  6  7]\n",
      "  [ 8  9 10 11]]\n",
      "\n",
      " [[12 13 14 15]\n",
      "  [16 17 18 19]\n",
      "  [20 21 22 23]]]\n"
     ]
    }
   ],
   "source": [
    "e_arr_0 = np.arange(24).reshape(2,3,4)\n",
    "print(e_arr_0)"
   ]
  },
  {
   "cell_type": "code",
   "execution_count": 42,
   "metadata": {
    "scrolled": false
   },
   "outputs": [
    {
     "name": "stdout",
     "output_type": "stream",
     "text": [
      "(4, 3, 2)\n",
      "[[[ 0 12]\n",
      "  [ 4 16]\n",
      "  [ 8 20]]\n",
      "\n",
      " [[ 1 13]\n",
      "  [ 5 17]\n",
      "  [ 9 21]]\n",
      "\n",
      " [[ 2 14]\n",
      "  [ 6 18]\n",
      "  [10 22]]\n",
      "\n",
      " [[ 3 15]\n",
      "  [ 7 19]\n",
      "  [11 23]]] (4, 3, 2)\n"
     ]
    }
   ],
   "source": [
    "print(e_arr_0.T.shape)\n",
    "print(e_arr_0.transpose(), e_arr_0.transpose().shape)"
   ]
  },
  {
   "cell_type": "code",
   "execution_count": 43,
   "metadata": {},
   "outputs": [
    {
     "name": "stdout",
     "output_type": "stream",
     "text": [
      "[[[ 0  1  2  3]\n",
      "  [12 13 14 15]]\n",
      "\n",
      " [[ 4  5  6  7]\n",
      "  [16 17 18 19]]\n",
      "\n",
      " [[ 8  9 10 11]\n",
      "  [20 21 22 23]]] (3, 2, 4)\n"
     ]
    }
   ],
   "source": [
    "print(e_arr_0.transpose(1,0,2), e_arr_0.transpose(1,0,2).shape)"
   ]
  },
  {
   "cell_type": "markdown",
   "metadata": {},
   "source": [
    "#### 九：求和，求平均数(axis = n，将第n维压扁)"
   ]
  },
  {
   "cell_type": "code",
   "execution_count": 44,
   "metadata": {},
   "outputs": [
    {
     "name": "stdout",
     "output_type": "stream",
     "text": [
      "66\n",
      "[12 15 18 21]\n",
      "[ 6 22 38]\n"
     ]
    }
   ],
   "source": [
    "#求和\n",
    "n_arr = np.arange(12).reshape(3,4)\n",
    "print(np.sum(n_arr))\n",
    "print(np.sum(n_arr, axis = 0))\n",
    "print(np.sum(n_arr, axis = 1))"
   ]
  },
  {
   "cell_type": "code",
   "execution_count": 45,
   "metadata": {},
   "outputs": [
    {
     "name": "stdout",
     "output_type": "stream",
     "text": [
      "5.5\n",
      "[4. 5. 6. 7.]\n",
      "[1.5 5.5 9.5]\n"
     ]
    }
   ],
   "source": [
    "#求平均数\n",
    "print(np.mean(n_arr))\n",
    "print(np.mean(n_arr, axis = 0))\n",
    "print(np.mean(n_arr, axis = 1))"
   ]
  },
  {
   "cell_type": "markdown",
   "metadata": {},
   "source": [
    "#### 十：comulative sum & sumulative product"
   ]
  },
  {
   "cell_type": "code",
   "execution_count": 46,
   "metadata": {},
   "outputs": [
    {
     "name": "stdout",
     "output_type": "stream",
     "text": [
      "[[ 0  1  2  3]\n",
      " [ 4  5  6  7]\n",
      " [ 8  9 10 11]]\n",
      "\n",
      "[ 0  1  3  6 10 15 21 28 36 45 55 66]\n",
      "\n",
      "[[ 0  1  2  3]\n",
      " [ 4  6  8 10]\n",
      " [12 15 18 21]]\n",
      "\n",
      "[[ 0  1  3  6]\n",
      " [ 4  9 15 22]\n",
      " [ 8 17 27 38]]\n"
     ]
    }
   ],
   "source": [
    "#comulative sum\n",
    "t_arr = np.arange(12).reshape(3,4)\n",
    "print(t_arr)\n",
    "print(\"\")\n",
    "print(t_arr.cumsum())\n",
    "print(\"\")\n",
    "print(t_arr.cumsum(axis = 0))\n",
    "print(\"\")\n",
    "print(t_arr.cumsum(axis = 1))"
   ]
  },
  {
   "cell_type": "code",
   "execution_count": 47,
   "metadata": {},
   "outputs": [
    {
     "name": "stdout",
     "output_type": "stream",
     "text": [
      "[[ 1  2  3  4]\n",
      " [ 5  6  7  8]\n",
      " [ 9 10 11 12]]\n",
      "\n",
      "[        1         2         6        24       120       720      5040\n",
      "     40320    362880   3628800  39916800 479001600]\n",
      "\n",
      "[[  1   2   3   4]\n",
      " [  5  12  21  32]\n",
      " [ 45 120 231 384]]\n",
      "\n",
      "[[    1     2     6    24]\n",
      " [    5    30   210  1680]\n",
      " [    9    90   990 11880]]\n"
     ]
    }
   ],
   "source": [
    "#sumlative product\n",
    "t_arr_0 = np.arange(1,13).reshape(3,4)      \n",
    "print(t_arr_0)\n",
    "print(\"\")\n",
    "print(t_arr_0.cumprod())\n",
    "print(\"\")\n",
    "print(t_arr_0.cumprod(axis = 0))\n",
    "print(\"\")\n",
    "print(t_arr_0.cumprod(axis = 1))"
   ]
  },
  {
   "cell_type": "markdown",
   "metadata": {},
   "source": [
    "#### 十一：broadcasting"
   ]
  },
  {
   "cell_type": "code",
   "execution_count": 48,
   "metadata": {},
   "outputs": [
    {
     "name": "stdout",
     "output_type": "stream",
     "text": [
      "[[ 0  1  2  3]\n",
      " [ 4  5  6  7]\n",
      " [ 8  9 10 11]]\n",
      "\n",
      "[[ 0  2  4  6]\n",
      " [ 8 10 12 14]\n",
      " [16 18 20 22]]\n",
      "[[ 0  2  4  6]\n",
      " [ 8 10 12 14]\n",
      " [16 18 20 22]]\n"
     ]
    }
   ],
   "source": [
    "ele_arr = np.arange(12).reshape(3,4)\n",
    "print(ele_arr)\n",
    "print(\"\")\n",
    "print(ele_arr * 2)\n",
    "print(ele_arr * [2])"
   ]
  },
  {
   "cell_type": "code",
   "execution_count": 49,
   "metadata": {
    "scrolled": true
   },
   "outputs": [
    {
     "name": "stdout",
     "output_type": "stream",
     "text": [
      "[[ 0  1  2  3]\n",
      " [ 4  5  6  7]\n",
      " [ 8  9 10 11]]\n",
      "[0 1 2 3]\n",
      "\n",
      "[[ 0  1  4  9]\n",
      " [ 0  5 12 21]\n",
      " [ 0  9 20 33]]\n"
     ]
    }
   ],
   "source": [
    "ele_a = np.arange(4)\n",
    "print(ele_arr)\n",
    "print(ele_a)\n",
    "print(\"\")\n",
    "print(ele_arr * ele_a)"
   ]
  },
  {
   "cell_type": "code",
   "execution_count": 50,
   "metadata": {},
   "outputs": [
    {
     "name": "stdout",
     "output_type": "stream",
     "text": [
      "[[0]\n",
      " [1]\n",
      " [2]]\n",
      "[[ 0  0  0  0]\n",
      " [ 4  5  6  7]\n",
      " [16 18 20 22]]\n"
     ]
    }
   ],
   "source": [
    "ele_b = np.arange(3).reshape(3,1)\n",
    "print(ele_b)\n",
    "print(ele_arr * ele_b)"
   ]
  },
  {
   "cell_type": "markdown",
   "metadata": {},
   "source": [
    "#### 十二：堆叠(concatenate);(vstack,hstack)(c_,r_)"
   ]
  },
  {
   "cell_type": "code",
   "execution_count": 51,
   "metadata": {},
   "outputs": [
    {
     "name": "stdout",
     "output_type": "stream",
     "text": [
      "[[0 1 2]\n",
      " [3 4 5]]\n",
      "[[ 6  7  8]\n",
      " [ 9 10 11]]\n"
     ]
    }
   ],
   "source": [
    "arr_1 = np.arange(6).reshape(2,3)\n",
    "arr_2 = np.arange(6,12).reshape(2,3)\n",
    "print(arr_1)\n",
    "print(arr_2)"
   ]
  },
  {
   "cell_type": "code",
   "execution_count": 52,
   "metadata": {},
   "outputs": [
    {
     "name": "stdout",
     "output_type": "stream",
     "text": [
      "[[ 0  1  2]\n",
      " [ 3  4  5]\n",
      " [ 6  7  8]\n",
      " [ 9 10 11]]\n",
      "[[ 0  1  2  6  7  8]\n",
      " [ 3  4  5  9 10 11]]\n"
     ]
    }
   ],
   "source": [
    "#concatenate\n",
    "print(np.concatenate([arr_1,arr_2], axis = 0))\n",
    "print(np.concatenate([arr_1,arr_2], axis = 1))"
   ]
  },
  {
   "cell_type": "code",
   "execution_count": 53,
   "metadata": {},
   "outputs": [
    {
     "name": "stdout",
     "output_type": "stream",
     "text": [
      "[[ 0  1  2]\n",
      " [ 3  4  5]\n",
      " [ 6  7  8]\n",
      " [ 9 10 11]]\n",
      "[[ 0  1  2  6  7  8]\n",
      " [ 3  4  5  9 10 11]]\n"
     ]
    }
   ],
   "source": [
    "#vstark,hstark\n",
    "print(np.vstack((arr_1,arr_2)))#vertical    垂直\n",
    "print(np.hstack((arr_1,arr_2)))#horizontal  水平"
   ]
  },
  {
   "cell_type": "code",
   "execution_count": 54,
   "metadata": {},
   "outputs": [
    {
     "name": "stdout",
     "output_type": "stream",
     "text": [
      "[[ 0  1  2]\n",
      " [ 3  4  5]\n",
      " [ 6  7  8]\n",
      " [ 9 10 11]]\n",
      "[[ 0  1  2  6  7  8]\n",
      " [ 3  4  5  9 10 11]]\n"
     ]
    }
   ],
   "source": [
    "#c_;r_\n",
    "print(np.r_[arr_1,arr_2])#按行堆叠\n",
    "print(np.c_[arr_1,arr_2])#按列堆叠"
   ]
  },
  {
   "cell_type": "code",
   "execution_count": 55,
   "metadata": {},
   "outputs": [
    {
     "name": "stdout",
     "output_type": "stream",
     "text": [
      "[[ 0 -5]\n",
      " [ 1 -4]\n",
      " [ 2 -3]\n",
      " [ 3 -2]\n",
      " [ 4 -1]]\n"
     ]
    }
   ],
   "source": [
    "print(np.c_[0:5,-5:0])"
   ]
  },
  {
   "cell_type": "markdown",
   "metadata": {},
   "source": [
    "#### 十三：拆分(split),拉伸(ravel)"
   ]
  },
  {
   "cell_type": "code",
   "execution_count": 56,
   "metadata": {},
   "outputs": [
    {
     "name": "stdout",
     "output_type": "stream",
     "text": [
      "[[0]\n",
      " [4]\n",
      " [8]] \n",
      "\n",
      "[[1]\n",
      " [5]\n",
      " [9]] \n",
      "\n",
      "[[ 2  3]\n",
      " [ 6  7]\n",
      " [10 11]]\n"
     ]
    }
   ],
   "source": [
    "arr = np.arange(12).reshape(3,4)\n",
    "arr_f, arr_s, arr_t = np.split(arr,[1,2],axis = 1)\n",
    "print(arr_f,\"\\n\")\n",
    "print(arr_s,\"\\n\")\n",
    "print(arr_t)"
   ]
  },
  {
   "cell_type": "code",
   "execution_count": 57,
   "metadata": {},
   "outputs": [
    {
     "name": "stdout",
     "output_type": "stream",
     "text": [
      "[ 0  1  2  3  4  5  6  7  8  9 10 11]\n"
     ]
    }
   ],
   "source": [
    "print(arr.ravel())"
   ]
  },
  {
   "cell_type": "markdown",
   "metadata": {},
   "source": [
    "#### 十五：逻辑运算：where(arr >  0,x,y）"
   ]
  },
  {
   "cell_type": "code",
   "execution_count": 58,
   "metadata": {},
   "outputs": [
    {
     "name": "stdout",
     "output_type": "stream",
     "text": [
      "[[ 0.21914611  0.09521481 -1.92362148 -0.36414233 -0.54758309]\n",
      " [ 1.32589606  1.89144679  0.07337252 -1.02988998  0.80356259]\n",
      " [-0.26965833 -0.89153164  0.88082424  0.72199503 -2.02884646]\n",
      " [ 0.22669744 -0.26073233 -0.50530875 -0.91506122 -1.24806748]]\n"
     ]
    }
   ],
   "source": [
    "arr_x = np.random.randn(20).reshape(4,5)\n",
    "print(arr_x)"
   ]
  },
  {
   "cell_type": "code",
   "execution_count": 59,
   "metadata": {},
   "outputs": [
    {
     "name": "stdout",
     "output_type": "stream",
     "text": [
      "[[ True  True False False False]\n",
      " [ True  True  True False  True]\n",
      " [False False  True  True False]\n",
      " [ True False False False False]]\n"
     ]
    }
   ],
   "source": [
    "arr_y = arr_x > 0\n",
    "print(arr_y)"
   ]
  },
  {
   "cell_type": "code",
   "execution_count": 60,
   "metadata": {},
   "outputs": [
    {
     "name": "stdout",
     "output_type": "stream",
     "text": [
      "[[0 1 7 8 9]\n",
      " [0 1 2 8 4]\n",
      " [5 6 2 3 9]\n",
      " [0 6 7 8 9]]\n"
     ]
    }
   ],
   "source": [
    "arr_1 = np.arange(5)\n",
    "arr_2 = np.arange(5,10)\n",
    "print(np.where(arr_y,arr_1,arr_2))"
   ]
  },
  {
   "cell_type": "code",
   "execution_count": 61,
   "metadata": {},
   "outputs": [
    {
     "name": "stdout",
     "output_type": "stream",
     "text": [
      "[[1 1 2 2 2]\n",
      " [1 1 1 2 1]\n",
      " [2 2 1 1 2]\n",
      " [1 2 2 2 2]]\n"
     ]
    }
   ],
   "source": [
    "print(np.where(arr_x > 0, 1, 2))"
   ]
  },
  {
   "cell_type": "markdown",
   "metadata": {},
   "source": [
    "#### 十五：重复(repeat),(tile)"
   ]
  },
  {
   "cell_type": "code",
   "execution_count": 62,
   "metadata": {},
   "outputs": [
    {
     "name": "stdout",
     "output_type": "stream",
     "text": [
      "[1 1 2 2 3 3 4 4]\n",
      "[[1 2]\n",
      " [1 2]\n",
      " [3 4]\n",
      " [3 4]]\n",
      "[[1 1 2 2]\n",
      " [3 3 4 4]]\n"
     ]
    }
   ],
   "source": [
    "#repeat\n",
    "arr = np.array([[1,2],[3,4]])\n",
    "print(np.repeat(arr, 2))\n",
    "print(np.repeat(arr, 2, axis = 0))\n",
    "print(np.repeat(arr, 2, axis = 1))"
   ]
  },
  {
   "cell_type": "code",
   "execution_count": 63,
   "metadata": {},
   "outputs": [
    {
     "name": "stdout",
     "output_type": "stream",
     "text": [
      "[1 2 2 3 3 3 4 4 4 4]\n"
     ]
    }
   ],
   "source": [
    "print(np.repeat(arr, [1,2,3,4]))"
   ]
  },
  {
   "cell_type": "code",
   "execution_count": 64,
   "metadata": {},
   "outputs": [
    {
     "name": "stdout",
     "output_type": "stream",
     "text": [
      "[[1 2 1 2]\n",
      " [3 4 3 4]]\n",
      "[[1 2 1 2 1 2]\n",
      " [3 4 3 4 3 4]\n",
      " [1 2 1 2 1 2]\n",
      " [3 4 3 4 3 4]]\n"
     ]
    }
   ],
   "source": [
    "#tile\n",
    "print(np.tile(arr, 2))\n",
    "print(np.tile(arr,(2,3)))"
   ]
  }
 ],
 "metadata": {
  "kernelspec": {
   "display_name": "Python 3",
   "language": "python",
   "name": "python3"
  },
  "language_info": {
   "codemirror_mode": {
    "name": "ipython",
    "version": 3
   },
   "file_extension": ".py",
   "mimetype": "text/x-python",
   "name": "python",
   "nbconvert_exporter": "python",
   "pygments_lexer": "ipython3",
   "version": "3.6.7"
  }
 },
 "nbformat": 4,
 "nbformat_minor": 2
}
